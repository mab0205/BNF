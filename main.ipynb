{
 "cells": [
  {
   "cell_type": "code",
   "execution_count": 221,
   "metadata": {},
   "outputs": [],
   "source": [
    "from Grafo import *\n",
    "from analiseSintatica import *\n",
    "import numpy as np\n",
    "from operator import index\n",
    "from traceback import print_tb\n",
    "# import o alfabeto em codigo Ascii \n",
    "import string \n",
    "# manipular os dados de excel com xlrd\n",
    "import xlrd\n",
    "\n",
    "#Analise Semantica \n",
    "contColchetes = 0\n",
    "tabelaIdentificadores = {}"
   ]
  },
  {
   "cell_type": "markdown",
   "metadata": {},
   "source": [
    "### Criacao do Alfabeto\n"
   ]
  },
  {
   "cell_type": "code",
   "execution_count": 222,
   "metadata": {},
   "outputs": [],
   "source": [
    "# VARAIBLES GLOBALES\n",
    "tamanhoAlfabeto = len(string.printable)\n",
    "alfabeto = []\n",
    "# Ajuste do numero de estados para criar o automato\n",
    "numEstados = 29 #son 28 estados en total pero como el rango de [0;28] tiene que se x<41\n",
    "estadosList = [i for i in range(numEstados)]\n",
    "\n",
    "def criaAlfabeto():\n",
    "    alfabeto.extend(string.printable)  #cria uma nova lista contendo o alfabeto\n",
    "\n",
    "estadosFinais=[1,3,4,6,7,8,9,10,11,12,13,14,15,16,17,18,19,21,22,23,24,25,28]"
   ]
  },
  {
   "cell_type": "markdown",
   "metadata": {},
   "source": [
    "### Leitura e criacao da Tabela de Simbolos"
   ]
  },
  {
   "cell_type": "code",
   "execution_count": 223,
   "metadata": {},
   "outputs": [],
   "source": [
    "def criaTabelaSimbolos(tabelaSimbolos):\n",
    "    try:\n",
    "        # import banco de dados palabras reservadas (excel.xls) \n",
    "        excel = xlrd.open_workbook('C:/Users/gaboh/Documents/GitHub/COMPILADORES/BNF/Tabela-Simbolos_3.xls') #import xlrd\n",
    "        #excel = xlrd.open_workbook('/home/moskbr/Documentos/git/BNF/Tabela-Simbolos_3.xls')\n",
    "        sh = excel.sheet_by_index(0) #Folha 1 ou sheet 1\n",
    "    except:\n",
    "        print(\"Exception ->Tabela de simbolos tem que ser um doc Excel do tipo .xls\")\n",
    "\n",
    "    \n",
    "    numColumnas = sh.nrows-1\n",
    "    for key in range(numColumnas):\n",
    "        cellCadeia = sh.cell(key+1,1).value\n",
    "        cellCategoria = sh.cell(key+1,2).value\n",
    "        cadeia = str(cellCadeia)\n",
    "        tabelaSimbolos[cadeia.upper()] = cellCategoria\n",
    "    # Tabela Simbolos -> colocar as pabras dentro de uma tabela hash ( Em python o dictionary representa a tabela hash )\n",
    "    #print(tabelaSimbolos)"
   ]
  },
  {
   "cell_type": "markdown",
   "metadata": {},
   "source": [
    "### Construcao do Automato "
   ]
  },
  {
   "cell_type": "code",
   "execution_count": 224,
   "metadata": {},
   "outputs": [],
   "source": [
    "def criaAutomato(grafo): \n",
    "    \n",
    "    for x in range(numEstados): agregar(grafo, estadosList[x]) # Cria o grafo de 40 estados\n",
    "    letras=[]\n",
    "    algarismos=[]\n",
    "\n",
    "    for cont in range(0,52): #armazena so as letras do alfabeto\n",
    "        letras.append(alfabeto[cont+10])\n",
    "    for cont in range(0,10): # armazena so os numeros do alfabeto \n",
    "        algarismos.append(alfabeto[cont])\n",
    "    \n",
    "    relacionar(grafo, estadosList[0], estadosList[1], algarismos)\n",
    "    relacionar(grafo, estadosList[1], estadosList[1], algarismos)\n",
    "    relacionar(grafo, estadosList[2], estadosList[3], algarismos)\n",
    "    relacionar(grafo, estadosList[3], estadosList[3], algarismos)\n",
    "    relacionar(grafo, estadosList[0], estadosList[4], letras)\n",
    "    relacionar(grafo, estadosList[4], estadosList[4], alfabeto)\n",
    "    relacionar(grafo, estadosList[1], estadosList[2], '.')\n",
    "    relacionar(grafo, estadosList[0], estadosList[5], '\\\\')\n",
    "    relacionar(grafo, estadosList[5], estadosList[6], '\\\\')\n",
    "    relacionar(grafo, estadosList[0], estadosList[7], '(')\n",
    "    relacionar(grafo, estadosList[0], estadosList[8], ')')\n",
    "    relacionar(grafo, estadosList[0], estadosList[9], '{')\n",
    "    relacionar(grafo, estadosList[0], estadosList[10], '}')\n",
    "    relacionar(grafo, estadosList[0], estadosList[11], '=')\n",
    "    relacionar(grafo, estadosList[11], estadosList[12], '=')\n",
    "    relacionar(grafo, estadosList[0], estadosList[13], '+')\n",
    "    relacionar(grafo, estadosList[13], estadosList[14], '+')\n",
    "    relacionar(grafo, estadosList[0], estadosList[15], '-')\n",
    "    relacionar(grafo, estadosList[15], estadosList[16], '-')\n",
    "    relacionar(grafo, estadosList[0], estadosList[17], '*')\n",
    "    relacionar(grafo, estadosList[0], estadosList[18], '/')\n",
    "    relacionar(grafo, estadosList[0], estadosList[19], '%')\n",
    "    relacionar(grafo, estadosList[0], estadosList[20], '!')\n",
    "    relacionar(grafo, estadosList[20], estadosList[21], '=')\n",
    "    relacionar(grafo, estadosList[0], estadosList[22], '>')\n",
    "    relacionar(grafo, estadosList[22], estadosList[23], '=')\n",
    "    relacionar(grafo, estadosList[0], estadosList[24], '<')\n",
    "    relacionar(grafo, estadosList[24], estadosList[25], '=')\n",
    "    relacionar(grafo, estadosList[0], estadosList[26], '\"')\n",
    "    relacionar(grafo, estadosList[26], estadosList[27], algarismos)\n",
    "    relacionar(grafo, estadosList[26], estadosList[27], letras)\n",
    "    relacionar(grafo, estadosList[27], estadosList[28], '\"')"
   ]
  },
  {
   "cell_type": "markdown",
   "metadata": {},
   "source": [
    "### Análise léxica (Scanner)\n",
    "* Tratamento de Espacios \n",
    "* Eliminar comentários\n",
    "* Contar número de linhas"
   ]
  },
  {
   "cell_type": "code",
   "execution_count": 225,
   "metadata": {},
   "outputs": [],
   "source": [
    "# importa as funcoes \n",
    "from analiseLexicaScanner import *"
   ]
  },
  {
   "cell_type": "markdown",
   "metadata": {},
   "source": [
    "### Recuperacao de Erros"
   ]
  },
  {
   "cell_type": "code",
   "execution_count": 226,
   "metadata": {},
   "outputs": [],
   "source": [
    "def Erro(tipo, X, Y, erro):\n",
    "    if tipo == \"Lexico\":\n",
    "        print(\"[Erro: Análise {}]: símbolo incorreto na linha {}, coluna {}. O símbolo {} não pertence ao alfabeto da linguagem.\".format(tipo, X, Y, erro))\n",
    "    \n",
    "    #print(\"[Erro: Análise Léxica]: símbolo incorreto na linha X, coluna Y. O variavel “@” não pertence ao alfabeto da linguagem.\")"
   ]
  },
  {
   "cell_type": "markdown",
   "metadata": {},
   "source": [
    "### Semantica"
   ]
  },
  {
   "cell_type": "code",
   "execution_count": 227,
   "metadata": {},
   "outputs": [],
   "source": [
    "def insereVariavel(nome,tipo,escopo,linha,valor):\n",
    "    global tabelaIdentificadores\n",
    "    if (valor != None and verificaVariavel(valor) == False and tipo != \"String\"):\n",
    "         return print(\"Erro Semantico: variavel nao declarada: \",valor) \n",
    "    elif nome in tabelaIdentificadores:\n",
    "        return print(\"Erro Semantico: Duas vezes declarada a variavel: \"+nome+\" na linha: \",linha)\n",
    "    \n",
    "    tabelaIdentificadores[nome] = [tipo,atribuicaoVariavel(nome,valor,tipo), escopo, linha]\n",
    "    return True \n",
    "\n",
    "def verificaVariavel(x):\n",
    "    global tabelaIdentificadores\n",
    "    if((x.isdigit() or isfloat(x) or (x in tabelaIdentificadores)) == False):\n",
    "        return False \n",
    "    else:\n",
    "        return True\n",
    "\n",
    "def atribuicaoVariavel(nome,x,tipo):\n",
    "    if (x in tabelaIdentificadores and tabelaIdentificadores[x][0] == tipo):\n",
    "        return tabelaIdentificadores[x][1]\n",
    "    else:\n",
    "        try:\n",
    "            if tabelaIdentificadores[x][0] != tipo:\n",
    "                print(\"Tramento de Erro - Warning: Tipos incompativeis, foi assinado a '\"+nome+ \"' o valor None\")\n",
    "                return None\n",
    "        except: \n",
    "            return x\n",
    "\n",
    "def verificaTipo(x,y):\n",
    "    if(tabelaIdentificadores[x][0] == \"Inteiro\" and y.isdigit()):\n",
    "        return True\n",
    "    elif(tabelaIdentificadores[x][0] == \"Float\" and isfloat(y)):\n",
    "        return True\n",
    "    elif(tabelaIdentificadores[x][0] == \"String\" and str(y)):\n",
    "        return True\n",
    "    elif ((y in tabelaIdentificadores)):\n",
    "        if(tabelaIdentificadores[x][0] == tabelaIdentificadores[y][0]):\n",
    "            return True\n",
    "    else : return False \n",
    "\n",
    "def erroSemantico(linha):\n",
    "    return print(\"Erro Semantico: variavel na linha: \",linha)"
   ]
  },
  {
   "cell_type": "markdown",
   "metadata": {},
   "source": [
    "### Analise Sintatica e Semantica\n",
    "* Parser \n",
    "* BNF"
   ]
  },
  {
   "cell_type": "code",
   "execution_count": 228,
   "metadata": {},
   "outputs": [],
   "source": [
    "def Sintatica(tokens_lexema,contLinhas,listaLexema):\n",
    "        global tabelaIdentificadores \n",
    "        global contColchetes\n",
    "        if((tokens_lexema[0] == ('TK_While' or 'TK_If')) and whileIf(tokens_lexema,contLinhas)):\n",
    "            #print(whileIf(tokens_lexema,contLinhas))\n",
    "            contColchetes += 1\n",
    "            print(contColchetes)\n",
    "        elif((tokens_lexema[0] == 'TK_Fecha_Chaves') and fecharChaves(tokens_lexema,contLinhas)):\n",
    "            #print(fecharChaves(tokens_lexema,contLinhas))\n",
    "            contColchetes -= 1\n",
    "            print(contColchetes)\n",
    "        elif((tokens_lexema[0] == 'TK_Int') and atribuiInt(tokens_lexema,contLinhas) ):\n",
    "            #print(atribuiInt(tokens_lexema,contLinhas))\n",
    "            if len(tokens_lexema) == 4:\n",
    "                insereVariavel(listaLexema[1],\"Inteiro\",1,contLinhas,listaLexema[3])\n",
    "            else:\n",
    "                insereVariavel(listaLexema[1],\"Inteiro\",1,contLinhas,None)\n",
    "        elif((tokens_lexema[0] == 'TK_Float') and atribuiFloat(tokens_lexema,contLinhas)):\n",
    "            #print(atribuiFloat(tokens_lexema,contLinhas))\n",
    "            if len(tokens_lexema) == 4:\n",
    "                insereVariavel(listaLexema[1],\"Float\",1,contLinhas,listaLexema[3])\n",
    "            else:\n",
    "                insereVariavel(listaLexema[1],\"Float\",1,contLinhas,None)     \n",
    "        elif((tokens_lexema[0] == 'TK_String') and atribuiString(tokens_lexema,contLinhas)):\n",
    "            #print(atribuiString(tokens_lexema,contLinhas))\n",
    "            if len(tokens_lexema) == 4:\n",
    "                insereVariavel(listaLexema[1],\"String\",1,contLinhas,listaLexema[3])\n",
    "            else:\n",
    "                insereVariavel(listaLexema[1],\"String\",1,contLinhas,None)     \n",
    "        elif((tokens_lexema[0] == 'TK_Write') and write(tokens_lexema,contLinhas)):print(write(tokens_lexema,contLinhas))\n",
    "        elif((tokens_lexema[0] == 'TK_Read') and read(tokens_lexema,contLinhas) ):print(read(tokens_lexema,contLinhas))        \n",
    "        elif(tokens_lexema[0] == 'TK_Identificador'):\n",
    "            #print(operacaoIdentificador2(tokens_lexema,contLinhas))\n",
    "            if((len(tokens_lexema) == 2) and operacaoIdentificador2(tokens_lexema,contLinhas)):\n",
    "                if(verificaVariavel(listaLexema[0]) and tabelaIdentificadores[listaLexema[0]][0] == \"Inteiro\"):\n",
    "                    b = tabelaIdentificadores[listaLexema[0]][1] \n",
    "                    if b == None: b = 0\n",
    "                    b = int(b) + 1\n",
    "                    tabelaIdentificadores[listaLexema[0]][1] = b\n",
    "                else:\n",
    "                    return erroSemantico(contLinhas)     \n",
    "            elif((len(tokens_lexema) == 3) and operacaoIdentificador3(tokens_lexema,contLinhas)):\n",
    "                if(listaLexema[0] in tabelaIdentificadores and (verificaTipo(listaLexema[0],listaLexema[2]))):\n",
    "                    try :\n",
    "                        tabelaIdentificadores[listaLexema[0]][1] = tabelaIdentificadores[listaLexema[2]][1]\n",
    "                    except:\n",
    "                        tabelaIdentificadores[listaLexema[0]][1] = listaLexema[2]\n",
    "                else: \n",
    "                    return erroSemantico(contLinhas)\n",
    "            elif((len(tokens_lexema) == 5) and operacaoIdentificador5(tokens_lexema,contLinhas)):\n",
    "                print(operacaoIdentificador5(tokens_lexema,contLinhas))\n",
    "            else: print(\"Erro Regra Sintatica: Na atribuicao de variavel \")\n",
    "        else:\n",
    "            print(\"Erro Regra Sintaticadddd– Linha:\",contLinhas)\n",
    "                     "
   ]
  },
  {
   "cell_type": "markdown",
   "metadata": {},
   "source": [
    "## Main e leitura do arquivo"
   ]
  },
  {
   "cell_type": "code",
   "execution_count": 229,
   "metadata": {},
   "outputs": [],
   "source": [
    "def tem_numero(s):\n",
    "    return any(char.isdigit() for char in s)"
   ]
  },
  {
   "cell_type": "code",
   "execution_count": 230,
   "metadata": {},
   "outputs": [],
   "source": [
    "def main():\n",
    "    criaAlfabeto()\n",
    "    tabelaSimbolos = {} #dictionary\n",
    "    criaTabelaSimbolos(tabelaSimbolos)\n",
    "    tokens_lexema = []\n",
    "\n",
    "    grafo = Grafo()\n",
    "    criaAutomato(grafo)\n",
    "    # variaveis para armazenar os tokens dependo do tipo \n",
    "    contFloat = 0 \n",
    "    contInt = 0\n",
    "    contString = 0 \n",
    "    contEntreAspas = 0\n",
    "    \n",
    "    # Analise Lexica\n",
    "    contLinhas = 0\n",
    "    contColumnas = 0\n",
    "    lista = []\n",
    "\n",
    "    # Leitura do arquivo \n",
    "    with open('teste.teste') as arquivo:\n",
    "        for linha in arquivo:\n",
    "            if linha == '\\n': continue # desconsidera linhas vazias\n",
    "            contLinhas += 1\n",
    "\n",
    "            if \"\\\\\" in linha:\n",
    "                if linha.startswith(\"\\\\\"): continue\n",
    "                linha = linha[0:linha.index(\"\\\\\")]\n",
    "\n",
    "            if \"\\\"\" in linha:# a função elimina os espaços dentro da cadeia que esta estre aspas antes do\n",
    "                linha = entreAspas(linha, contLinhas)# split abaixo para que a cadeia nao fique fragmentada\n",
    "            \n",
    "            lexema = linha.split()\n",
    "            lista = divideLexemas(lexema, contColumnas, tabelaSimbolos)\n",
    "            \n",
    "            for w in lista:\n",
    "                contColumnas+=1\n",
    "                if(verificaPalavra(grafo, w, estadosFinais)):\n",
    "                    chave = w.upper()\n",
    "                    if(chave in tabelaSimbolos and tem_numero(tabelaSimbolos[chave]) == False):\n",
    "                        tokens_lexema.append(tabelaSimbolos[chave])\n",
    "                    elif chave in tabelaSimbolos and tem_numero(tabelaSimbolos[chave]):\n",
    "                        s = ''.join([i for i in tabelaSimbolos[chave] if not i.isdigit()])\n",
    "                        s = s[:-1]\n",
    "                        tokens_lexema.append(s)\n",
    "                    else: \n",
    "                        if(w.isdigit()):\n",
    "                            tabelaSimbolos[w] = \"TK_Inteiro_\"+str(contInt)\n",
    "                            tokens_lexema.append(\"TK_Inteiro\")\n",
    "                            contInt+=1\n",
    "                        elif(isfloat(w)): \n",
    "                            tabelaSimbolos[w] = \"TK_Flutuante_\"+str(contFloat)\n",
    "                            tokens_lexema.append(\"TK_Flutuante\") \n",
    "                            contFloat+=1\n",
    "                        elif w[0] == \"\\\"\":\n",
    "                            tabelaSimbolos[w] = \"TK_Entre_Aspas_\"+str(contEntreAspas)\n",
    "                            tokens_lexema.append(\"TK_Entre_Aspas\")\n",
    "                            contEntreAspas += 1\n",
    "                        else:\n",
    "                            tabelaSimbolos[chave] = \"TK_Identificador_\"+str(contString)\n",
    "                            tokens_lexema.append(\"TK_Identificador\") \n",
    "                            contString+=1\n",
    "                else :\n",
    "                    print(\"Erro Automato:\") \n",
    "                    #tokens_lexema.clear()\n",
    "                    Erro(\"Lexico\", contLinhas, contColumnas, w)\n",
    "                    break\n",
    "                \n",
    "            #print(tokens_lexema)\n",
    "            Sintatica(tokens_lexema, contLinhas,lista)\n",
    "            \n",
    "            print(\".....................................................\")\n",
    "            tokens_lexema.clear()\n",
    "    print(tabelaIdentificadores)\n",
    "    if contColchetes != 0:\n",
    "            print(\"Erro Semantico: Nao foi fechado: \",contColchetes, \"colchetes\")\n",
    "    #print(tabelaSimbolos)\n",
    "    print(\"Numero de linhas do Codigo: {}\".format(contLinhas))"
   ]
  },
  {
   "cell_type": "code",
   "execution_count": 231,
   "metadata": {},
   "outputs": [
    {
     "name": "stdout",
     "output_type": "stream",
     "text": [
      ".....................................................\n",
      ".....................................................\n",
      "Tramento de Erro - Warning: Tipos incompativeis, foi assinado a 'y' o valor None\n",
      ".....................................................\n",
      "Erro Semantico: Duas vezes declarada a variavel: y na linha:  4\n",
      ".....................................................\n",
      ".....................................................\n",
      ".....................................................\n",
      "Erro Semantico: variavel na linha:  7\n",
      ".....................................................\n",
      "True\n",
      ".....................................................\n",
      ".....................................................\n",
      ".....................................................\n",
      "Tramento de Erro - Warning: Tipos incompativeis, foi assinado a 'c' o valor None\n",
      ".....................................................\n",
      "Erro Semantico: variavel na linha:  12\n",
      ".....................................................\n",
      "Erro Semantico: variavel na linha:  13\n",
      ".....................................................\n",
      "Erro Semantico: variavel na linha:  14\n",
      ".....................................................\n",
      "Erro Semantico: variavel na linha:  15\n",
      ".....................................................\n",
      "{'x': ['Inteiro', '34', 1, 1], 'w': ['Inteiro', 10, 1, 2], 'y': ['Float', None, 1, 3], 'h': ['String', '\"HolaMundo\"', 1, 5], 'r': ['String', None, 1, 6], 'c': ['Float', None, 1, 11]}\n",
      "Numero de linhas do Codigo: 15\n"
     ]
    }
   ],
   "source": [
    "if __name__ == \"__main__\":\n",
    "    main()"
   ]
  }
 ],
 "metadata": {
  "kernelspec": {
   "display_name": "Python 3.9.12 ('base')",
   "language": "python",
   "name": "python3"
  },
  "language_info": {
   "codemirror_mode": {
    "name": "ipython",
    "version": 3
   },
   "file_extension": ".py",
   "mimetype": "text/x-python",
   "name": "python",
   "nbconvert_exporter": "python",
   "pygments_lexer": "ipython3",
   "version": "3.9.12"
  },
  "orig_nbformat": 4,
  "vscode": {
   "interpreter": {
    "hash": "a1d387925892fc7fcb4725e0631a5c5e244fddf1bc8bf25e3f6261922298782b"
   }
  }
 },
 "nbformat": 4,
 "nbformat_minor": 2
}
